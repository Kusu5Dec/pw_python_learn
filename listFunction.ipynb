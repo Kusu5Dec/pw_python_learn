{
 "cells": [
  {
   "cell_type": "code",
   "execution_count": 2,
   "metadata": {},
   "outputs": [
    {
     "name": "stdout",
     "output_type": "stream",
     "text": [
      "[10.15, 30, 50]\n"
     ]
    }
   ],
   "source": [
    "#Q1. What is the syntax for adding an element to a list in Python?\n",
    "l_x=[10.15,30]\n",
    "l_x.append(50)\n",
    "print(l_x)"
   ]
  },
  {
   "cell_type": "code",
   "execution_count": 20,
   "metadata": {},
   "outputs": [
    {
     "name": "stdout",
     "output_type": "stream",
     "text": [
      "[10, 20, 40, 70, 33, 23, 56, 79]\n",
      "[10, 20, 40, 70, 33, 23, 56]\n"
     ]
    }
   ],
   "source": [
    "#Q2. What is the difference between remove() and pop() functions in Python?\n",
    "l_x=[10,20,40,70,33,87,23,56,79]\n",
    "remEx= l_x.remove(87)\n",
    "print(l_x)\n",
    "\n",
    "# remove is use to remove aspecific item from the list \n",
    "\n",
    "popEx= l_x.pop()\n",
    "print(l_x)\n",
    "\n",
    "# Pop will remove last item from the list"
   ]
  },
  {
   "cell_type": "code",
   "execution_count": 28,
   "metadata": {},
   "outputs": [
    {
     "name": "stdout",
     "output_type": "stream",
     "text": [
      "[87, 79, 70, 56, 40, 33, 23, 20, 10]\n"
     ]
    }
   ],
   "source": [
    "#Q3. Write a Python code to sort a list in descending order.\n",
    "\n",
    "l_x=[10,20,40,70,33,87,23,56,79]\n",
    "l_x.sort(reverse=True)\n",
    "print(l_x)"
   ]
  },
  {
   "cell_type": "code",
   "execution_count": 30,
   "metadata": {},
   "outputs": [
    {
     "name": "stdout",
     "output_type": "stream",
     "text": [
      "3\n"
     ]
    }
   ],
   "source": [
    "#Q4. Write a Python code to count the number of occurrences of an element in a list.\n",
    "l_x=[10,20,40,70,33,87,23,56,79,56,33,89,33]\n",
    "print(l_x.count(33))"
   ]
  },
  {
   "cell_type": "code",
   "execution_count": 32,
   "metadata": {},
   "outputs": [
    {
     "name": "stdout",
     "output_type": "stream",
     "text": [
      "[33, 89, 33, 56, 79, 56, 23, 87, 33, 70, 40, 20, 10]\n"
     ]
    }
   ],
   "source": [
    "# Write a Python code to reverse a list.\n",
    "l_x=[10,20,40,70,33,87,23,56,79,56,33,89,33]\n",
    "l_x[::-1]\n",
    "print(l_x[::-1])"
   ]
  }
 ],
 "metadata": {
  "kernelspec": {
   "display_name": "Python 3",
   "language": "python",
   "name": "python3"
  },
  "language_info": {
   "codemirror_mode": {
    "name": "ipython",
    "version": 3
   },
   "file_extension": ".py",
   "mimetype": "text/x-python",
   "name": "python",
   "nbconvert_exporter": "python",
   "pygments_lexer": "ipython3",
   "version": "3.11.4"
  },
  "orig_nbformat": 4
 },
 "nbformat": 4,
 "nbformat_minor": 2
}
