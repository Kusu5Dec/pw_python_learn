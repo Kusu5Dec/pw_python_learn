{
 "cells": [
  {
   "cell_type": "code",
   "execution_count": 1,
   "metadata": {},
   "outputs": [
    {
     "name": "stdout",
     "output_type": "stream",
     "text": [
      "[]\n"
     ]
    }
   ],
   "source": [
    "#Q1. Create an empty list.\n",
    "\n",
    "l_x=[]\n",
    "print(l_x)"
   ]
  },
  {
   "cell_type": "code",
   "execution_count": 3,
   "metadata": {},
   "outputs": [
    {
     "name": "stdout",
     "output_type": "stream",
     "text": [
      "[20, 30, 55, 70, 100]\n"
     ]
    }
   ],
   "source": [
    "#Q2. Create a list and add an element to the end of this list.\n",
    "\n",
    "\n",
    "l_x.append(100)\n",
    "\n",
    "print(l_x)"
   ]
  },
  {
   "cell_type": "code",
   "execution_count": 5,
   "metadata": {},
   "outputs": [
    {
     "name": "stdout",
     "output_type": "stream",
     "text": [
      "70\n"
     ]
    }
   ],
   "source": [
    "#Q3. For the above created list print the last element.\n",
    "\n",
    "l_x=[20,30,55,70]\n",
    "print(l_x[len(l_x)-1])"
   ]
  },
  {
   "cell_type": "code",
   "execution_count": 9,
   "metadata": {},
   "outputs": [
    {
     "name": "stdout",
     "output_type": "stream",
     "text": [
      "[70, 55, 30, 20]\n"
     ]
    }
   ],
   "source": [
    "# Q4. Reverse the above created list.\n",
    "l_x=[20,30,55,70]\n",
    "print(l_x[::-1])"
   ]
  },
  {
   "cell_type": "code",
   "execution_count": 12,
   "metadata": {},
   "outputs": [
    {
     "name": "stdout",
     "output_type": "stream",
     "text": [
      "[20, 30, 55, 70]\n"
     ]
    }
   ],
   "source": [
    "#Q5. Sort the above created list.\n",
    "l_x=[20,30,55,70]\n",
    "l_x.sort()\n",
    "print(l_x)"
   ]
  },
  {
   "cell_type": "code",
   "execution_count": 16,
   "metadata": {},
   "outputs": [
    {
     "name": "stdout",
     "output_type": "stream",
     "text": [
      "sultan\n"
     ]
    }
   ],
   "source": [
    "#Q6. Create a list of your top three favorite movies, then print the second movie title.\n",
    "l_x=[\"DDLJ\",\"sultan\",\"raja bhaiya\"]\n",
    "print(l_x[1])"
   ]
  },
  {
   "cell_type": "code",
   "execution_count": 18,
   "metadata": {},
   "outputs": [
    {
     "name": "stdout",
     "output_type": "stream",
     "text": [
      "['dog', 'cat', 'pig', 'fox']\n"
     ]
    }
   ],
   "source": [
    "#Q7. Create a list of your favorite animals, then add a new animal to the list and print the updated list.\n",
    "l_animal =[\"dog\",\"cat\",\"pig\"]\n",
    "l_animal.append(\"fox\")\n",
    "print(l_animal)"
   ]
  },
  {
   "cell_type": "code",
   "execution_count": 21,
   "metadata": {},
   "outputs": [
    {
     "name": "stdout",
     "output_type": "stream",
     "text": [
      "1\n"
     ]
    }
   ],
   "source": [
    "#Q8. Create a list of your favorite cities, then use the index() method to find the position of a specific city\n",
    "#on the list and print it.\n",
    "l_cities=[\"noida\",\"azamgarh\",\"panipat\"]\n",
    "x=l_cities.index(\"azamgarh\")\n",
    "print(x)"
   ]
  },
  {
   "cell_type": "code",
   "execution_count": null,
   "metadata": {},
   "outputs": [],
   "source": []
  }
 ],
 "metadata": {
  "kernelspec": {
   "display_name": "Python 3",
   "language": "python",
   "name": "python3"
  },
  "language_info": {
   "codemirror_mode": {
    "name": "ipython",
    "version": 3
   },
   "file_extension": ".py",
   "mimetype": "text/x-python",
   "name": "python",
   "nbconvert_exporter": "python",
   "pygments_lexer": "ipython3",
   "version": "3.11.4"
  },
  "orig_nbformat": 4
 },
 "nbformat": 4,
 "nbformat_minor": 2
}
