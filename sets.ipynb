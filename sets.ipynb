{
 "cells": [
  {
   "cell_type": "code",
   "execution_count": 4,
   "metadata": {},
   "outputs": [
    {
     "name": "stdout",
     "output_type": "stream",
     "text": [
      "{'kusum', 'sunil', 'mukul'}\n"
     ]
    }
   ],
   "source": [
    "# Q1. What is a set in Python?\n",
    "\n",
    "# set are use to store multiple data, set cannot have two item with the same value\n",
    "\n",
    "s_x={\"kusum\",\"mukul\",\"sunil\",\"sunil\"}\n",
    "print(s_x)"
   ]
  },
  {
   "cell_type": "code",
   "execution_count": 6,
   "metadata": {},
   "outputs": [
    {
     "name": "stdout",
     "output_type": "stream",
     "text": [
      "{'kusum', 'sunil', 'mukul'}\n"
     ]
    }
   ],
   "source": [
    "#Q2.How do you create a set in Python?\n",
    "s_x={\"kusum\",\"mukul\",\"sunil\",\"sunil\"}\n",
    "print(s_x)\n"
   ]
  },
  {
   "cell_type": "code",
   "execution_count": 8,
   "metadata": {},
   "outputs": [
    {
     "name": "stdout",
     "output_type": "stream",
     "text": [
      "{56, 10, 100, 98}\n"
     ]
    }
   ],
   "source": [
    "#Q3. How do you add elements to a set in Python?\n",
    "s_x={10,56,98,56}\n",
    "s_x.add(100)\n",
    "print(s_x)"
   ]
  },
  {
   "cell_type": "code",
   "execution_count": 10,
   "metadata": {},
   "outputs": [
    {
     "name": "stdout",
     "output_type": "stream",
     "text": [
      "{56, 98}\n"
     ]
    }
   ],
   "source": [
    "#Q4. How do you remove elements from a set in Python?\n",
    "s_x={10,56,98,56}\n",
    "s_x.remove(10)\n",
    "print(s_x)"
   ]
  },
  {
   "cell_type": "code",
   "execution_count": 12,
   "metadata": {},
   "outputs": [
    {
     "name": "stdout",
     "output_type": "stream",
     "text": [
      "3\n"
     ]
    }
   ],
   "source": [
    "#Q5. How do you get the length of a set in Python?\n",
    "s_x={10,56,98,56}\n",
    "print(len(s_x))\n"
   ]
  },
  {
   "cell_type": "code",
   "execution_count": null,
   "metadata": {},
   "outputs": [],
   "source": []
  }
 ],
 "metadata": {
  "kernelspec": {
   "display_name": "Python 3",
   "language": "python",
   "name": "python3"
  },
  "language_info": {
   "codemirror_mode": {
    "name": "ipython",
    "version": 3
   },
   "file_extension": ".py",
   "mimetype": "text/x-python",
   "name": "python",
   "nbconvert_exporter": "python",
   "pygments_lexer": "ipython3",
   "version": "3.11.4"
  },
  "orig_nbformat": 4
 },
 "nbformat": 4,
 "nbformat_minor": 2
}
