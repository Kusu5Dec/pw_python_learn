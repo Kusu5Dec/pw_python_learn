{
 "cells": [
  {
   "cell_type": "code",
   "execution_count": 2,
   "metadata": {},
   "outputs": [
    {
     "name": "stdout",
     "output_type": "stream",
     "text": [
      "(45, 67.8, 'kusum', True)\n"
     ]
    }
   ],
   "source": [
    "# what is a tuple in Python?\n",
    "\n",
    "#Ans-tuples are used to store multiple items in a single variable.tuples are collection which order and not chngeable.\n",
    "t=(45,67.8,\"kusum\",True)\n",
    "print(t)\n"
   ]
  },
  {
   "cell_type": "code",
   "execution_count": 4,
   "metadata": {},
   "outputs": [
    {
     "name": "stdout",
     "output_type": "stream",
     "text": [
      "(45, 67.8, 'kusum', True)\n"
     ]
    }
   ],
   "source": [
    "# How do you create a tuple in Python?\n",
    " \n",
    "t=(45,67.8,\"kusum\",True)\n",
    "print(t)"
   ]
  },
  {
   "cell_type": "code",
   "execution_count": 8,
   "metadata": {},
   "outputs": [
    {
     "name": "stdout",
     "output_type": "stream",
     "text": [
      "(45, 67.8, 'kusum', True)\n",
      "[67, 98, 'kusum', True]\n"
     ]
    }
   ],
   "source": [
    "# What is the difference between a tuple and a list in Python?\n",
    "\n",
    " \n",
    "t=(45,67.8,\"kusum\",True)\n",
    "print(t)\n",
    "#tuples are used to store   multiple items in a single variable.tuples are collection which order and not chngeable.\n",
    "\n",
    "\n",
    "l=[67,98,\"kusum\",True]\n",
    "print(l)\n",
    "#list is used to store multiple items in a single variable.lists are created using square brackets[].\n"
   ]
  },
  {
   "cell_type": "code",
   "execution_count": 9,
   "metadata": {},
   "outputs": [],
   "source": [
    "#. Can a tuple be changed in Python?\n",
    "\n",
    "# tuples are not changeable."
   ]
  },
  {
   "cell_type": "code",
   "execution_count": 11,
   "metadata": {},
   "outputs": [
    {
     "name": "stdout",
     "output_type": "stream",
     "text": [
      "kusum\n"
     ]
    }
   ],
   "source": [
    "#how do you access elements in a tuple?\n",
    "\n",
    "t=(45,67.8,\"kusum\",True)\n",
    "print(t[2])\n"
   ]
  },
  {
   "cell_type": "code",
   "execution_count": 15,
   "metadata": {},
   "outputs": [
    {
     "name": "stdout",
     "output_type": "stream",
     "text": [
      "coat\n",
      "suit\n",
      "gown\n",
      "sarees\n"
     ]
    }
   ],
   "source": [
    "#How do you unpack a tuple in Python?\n",
    " \n",
    "t_x=(\"coat\",\"suit\",\"gown\",\"sarees\")\n",
    "(green,purple,black,white)=t_x\n",
    "print(green)\n",
    "print(purple)\n",
    "print(black)\n",
    "print(white)"
   ]
  }
 ],
 "metadata": {
  "kernelspec": {
   "display_name": "Python 3",
   "language": "python",
   "name": "python3"
  },
  "language_info": {
   "codemirror_mode": {
    "name": "ipython",
    "version": 3
   },
   "file_extension": ".py",
   "mimetype": "text/x-python",
   "name": "python",
   "nbconvert_exporter": "python",
   "pygments_lexer": "ipython3",
   "version": "3.11.4"
  },
  "orig_nbformat": 4
 },
 "nbformat": 4,
 "nbformat_minor": 2
}
