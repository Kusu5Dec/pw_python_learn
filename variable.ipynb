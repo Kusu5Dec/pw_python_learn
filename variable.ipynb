{
 "cells": [
  {
   "cell_type": "code",
   "execution_count": null,
   "id": "2d270d58",
   "metadata": {},
   "outputs": [],
   "source": [
    "# write all the convention being followed while declearing a variable\n",
    "\n",
    "# A variable can consist of upper- and lowercase letters, the digits 0-9 and the underscore character.\n",
    "# The first character of a variable cannot be a digit.\n",
    "# Keywords like if or the Boolean True are reserved and cannot be used as variable names.\n",
    "# Variables are case-sensitive; therefore x is different from X."
   ]
  },
  {
   "cell_type": "code",
   "execution_count": 1,
   "id": "c814bc87",
   "metadata": {},
   "outputs": [],
   "source": [
    "# what will happne if we declear a restricted key word as variable ?\n",
    "\n",
    "\n",
    "# ANS:- It will give syntax erroe"
   ]
  },
  {
   "cell_type": "code",
   "execution_count": 2,
   "id": "79f9aae3",
   "metadata": {},
   "outputs": [],
   "source": [
    "# can we actually declear string as a variable name?\n",
    "\n",
    "\n",
    "# No\n"
   ]
  },
  {
   "cell_type": "code",
   "execution_count": 4,
   "id": "5e55d14d",
   "metadata": {},
   "outputs": [
    {
     "name": "stdout",
     "output_type": "stream",
     "text": [
      "kusum \n"
     ]
    }
   ],
   "source": [
    "# is it possible for us to declear \"_\" as a varible ?is so the write an exaple of it\n",
    "\n",
    "\n",
    "# Yes we can use it as a varible name \n",
    "_=\"kusum \"\n",
    "print(_)"
   ]
  },
  {
   "cell_type": "code",
   "execution_count": 8,
   "id": "b69e8cc6",
   "metadata": {},
   "outputs": [
    {
     "name": "stdout",
     "output_type": "stream",
     "text": [
      "<class 'int'>\n",
      "<class 'str'>\n",
      "<class 'bool'>\n"
     ]
    }
   ],
   "source": [
    "# using an expale, explain how the varible in python are dynamic in nature \n",
    "\n",
    "\n",
    "x =100\n",
    "print(type(x))\n",
    "x =\"kusum\"\n",
    "print(type(x))\n",
    "x =True\n",
    "print(type(x))\n"
   ]
  }
 ],
 "metadata": {
  "kernelspec": {
   "display_name": "Python 3 (ipykernel)",
   "language": "python",
   "name": "python3"
  },
  "language_info": {
   "codemirror_mode": {
    "name": "ipython",
    "version": 3
   },
   "file_extension": ".py",
   "mimetype": "text/x-python",
   "name": "python",
   "nbconvert_exporter": "python",
   "pygments_lexer": "ipython3",
   "version": "3.11.4"
  },
  "toc-showcode": true
 },
 "nbformat": 4,
 "nbformat_minor": 5
}
