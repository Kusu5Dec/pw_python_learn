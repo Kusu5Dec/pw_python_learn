{
 "cells": [
  {
   "cell_type": "code",
   "execution_count": 18,
   "metadata": {},
   "outputs": [
    {
     "name": "stdout",
     "output_type": "stream",
     "text": [
      "'\n"
     ]
    }
   ],
   "source": [
    "# QTQ How can we store a s1ngle quote (‘) as a str1ng 1n a var1able?\n",
    "\n",
    "x_str=\"'\"\n",
    "print(x_str)"
   ]
  },
  {
   "cell_type": "code",
   "execution_count": 5,
   "metadata": {},
   "outputs": [
    {
     "name": "stdout",
     "output_type": "stream",
     "text": [
      "<class 'str'>\n"
     ]
    }
   ],
   "source": [
    "# Q/Refer the below var1able:\n",
    "# x = ‘a(\n",
    "# Here, 1s x a character type or str1ng type var1able? Support your answer w1th an explanat1on.\n",
    "\n",
    "\n",
    "# No python does not have character data type, so the given example is tring data type \n",
    "x=\"a\"\n",
    "print(type(x))"
   ]
  },
  {
   "cell_type": "code",
   "execution_count": 19,
   "metadata": {},
   "outputs": [
    {
     "name": "stdout",
     "output_type": "stream",
     "text": [
      "11\n",
      "1\n",
      "35\n",
      "Welcome to Python foun at1on course Physic wala\n"
     ]
    }
   ],
   "source": [
    "# Apply the follow1ng funct1ons on th1s var1able: ‘Welcome to Python foun at1on course'\n",
    "\n",
    "str_expmple = \"Welcome to Python foun at1on course\"\n",
    "#1. find\n",
    "print(str_expmple.find(\"Python\"))\n",
    "\n",
    "#2.count\n",
    "print(str_expmple.count(\"Python\"))\n",
    "\n",
    "# 3 Length\n",
    "print(len(str_expmple))\n",
    "\n",
    "\n",
    "# 4 concatenation\n",
    "print(str_expmple+\" Physic wala\")"
   ]
  },
  {
   "cell_type": "code",
   "execution_count": 24,
   "metadata": {},
   "outputs": [
    {
     "name": "stdout",
     "output_type": "stream",
     "text": [
      "lowercase 3\n",
      "uppercase 2\n",
      "numer1cal 6\n"
     ]
    }
   ],
   "source": [
    "# Q4Q For the var1able: wor = ‘PanaJ1@12256\n",
    "# Calculate the follow1ng:\n",
    "# (a) Total number of alphabets 1n lowercase\n",
    "# (b) Total number of alphabets 1n uppercase\n",
    "# (c) Total number of numer1cal 1n str1ng\n",
    "\n",
    "x=\"‘PanaJ1@12256\"\n",
    "lowerCount=0\n",
    "uperCount =0\n",
    "numCount =0\n",
    "for item in x:\n",
    "    if item.islower():\n",
    "        lowerCount=lowerCount+1\n",
    "    elif item.isupper():\n",
    "        uperCount= uperCount+1  \n",
    "    elif item.isnumeric():\n",
    "        numCount=numCount+1\n",
    "print(\"lowercase \"+str(lowerCount)) \n",
    "print(\"uppercase \"+str(uperCount))  \n",
    "print(\"numer1cal \"+str(numCount))            "
   ]
  },
  {
   "cell_type": "code",
   "execution_count": 29,
   "metadata": {},
   "outputs": [
    {
     "name": "stdout",
     "output_type": "stream",
     "text": [
      "<class 'str'>\n"
     ]
    }
   ],
   "source": [
    "# Wr1te a co e to store a numer1cal value 1ns1 e a var1able then convert 1t 1nto str1ng\n",
    "x = 100\n",
    "y=str(x)\n",
    "print(type(y))"
   ]
  },
  {
   "cell_type": "code",
   "execution_count": null,
   "metadata": {},
   "outputs": [],
   "source": []
  }
 ],
 "metadata": {
  "kernelspec": {
   "display_name": "Python 3",
   "language": "python",
   "name": "python3"
  },
  "language_info": {
   "codemirror_mode": {
    "name": "ipython",
    "version": 3
   },
   "file_extension": ".py",
   "mimetype": "text/x-python",
   "name": "python",
   "nbconvert_exporter": "python",
   "pygments_lexer": "ipython3",
   "version": "3.11.4"
  },
  "orig_nbformat": 4
 },
 "nbformat": 4,
 "nbformat_minor": 2
}
